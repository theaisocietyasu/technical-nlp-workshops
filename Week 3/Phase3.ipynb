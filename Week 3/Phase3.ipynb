{
  "nbformat": 4,
  "nbformat_minor": 0,
  "metadata": {
    "colab": {
      "provenance": []
    },
    "kernelspec": {
      "name": "python3",
      "display_name": "Python 3"
    },
    "language_info": {
      "name": "python"
    }
  },
  "cells": [
    {
      "cell_type": "markdown",
      "source": [
        "GolVe"
      ],
      "metadata": {
        "id": "-qORw_o1vuqs"
      }
    },
    {
      "cell_type": "code",
      "source": [
        "import numpy as np\n",
        "from gensim.scripts.glove2word2vec import glove2word2vec\n",
        "from gensim.models import KeyedVectors"
      ],
      "metadata": {
        "id": "svCZMr6YvO31"
      },
      "execution_count": null,
      "outputs": []
    },
    {
      "cell_type": "code",
      "source": [
        "# Step 2: Convert GloVe format to Word2Vec format\n",
        "glove_input_file = 'glove.6B.100d.txt'\n",
        "word2vec_output_file = 'glove.6B.100d.word2vec.txt'\n",
        "glove2word2vec(glove_input_file, word2vec_output_file)"
      ],
      "metadata": {
        "colab": {
          "base_uri": "https://localhost:8080/"
        },
        "id": "rInPvSZuvPof",
        "outputId": "3674dc10-78ce-4f90-81fc-13affc4e17e5"
      },
      "execution_count": null,
      "outputs": [
        {
          "output_type": "stream",
          "name": "stderr",
          "text": [
            "<ipython-input-7-3530c86701c8>:4: DeprecationWarning: Call to deprecated `glove2word2vec` (KeyedVectors.load_word2vec_format(.., binary=False, no_header=True) loads GLoVE text vectors.).\n",
            "  glove2word2vec(glove_input_file, word2vec_output_file)\n"
          ]
        },
        {
          "output_type": "execute_result",
          "data": {
            "text/plain": [
              "(400000, 100)"
            ]
          },
          "metadata": {},
          "execution_count": 7
        }
      ]
    },
    {
      "cell_type": "code",
      "source": [
        "# Step 3: Load the converted embeddings\n",
        "glove_model = KeyedVectors.load_word2vec_format(word2vec_output_file, binary=False)"
      ],
      "metadata": {
        "id": "7ucRUodxvffh"
      },
      "execution_count": null,
      "outputs": []
    },
    {
      "cell_type": "code",
      "source": [
        "# Step 4: Use the embeddings\n",
        "def get_word_vector(word):\n",
        "    try:\n",
        "        return glove_model[word]\n",
        "    except KeyError:\n",
        "        return np.zeros(glove_model.vector_size)"
      ],
      "metadata": {
        "id": "g9wuDTeGvlkW"
      },
      "execution_count": null,
      "outputs": []
    },
    {
      "cell_type": "code",
      "source": [
        "# Example usage\n",
        "words = [\"cat\", \"dog\", \"house\", \"computer\", \"nonexistentword\"]"
      ],
      "metadata": {
        "id": "oe4kz7GBvmOy"
      },
      "execution_count": null,
      "outputs": []
    },
    {
      "cell_type": "code",
      "source": [
        "for word in words:\n",
        "    vector = get_word_vector(word)\n",
        "    print(f\"Vector for '{word}': {vector[:5]}...\")"
      ],
      "metadata": {
        "colab": {
          "base_uri": "https://localhost:8080/"
        },
        "id": "xygYIoo-vnnI",
        "outputId": "8f2b2ed9-31ef-4195-8441-be66bda724d5"
      },
      "execution_count": null,
      "outputs": [
        {
          "output_type": "stream",
          "name": "stdout",
          "text": [
            "Vector for 'cat': [ 0.23088  0.28283  0.6318  -0.59411 -0.58599]...\n",
            "Vector for 'dog': [ 0.30817  0.30938  0.52803 -0.92543 -0.73671]...\n",
            "Vector for 'house': [-0.18867  -0.040943  0.58878   0.11062   0.14236 ]...\n",
            "Vector for 'computer': [-0.16298   0.30141   0.57978   0.066548  0.45835 ]...\n",
            "Vector for 'nonexistentword': [0. 0. 0. 0. 0.]...\n"
          ]
        }
      ]
    },
    {
      "cell_type": "code",
      "source": [
        "# Step 5: Find similar words\n",
        "print(\"\\nWords most similar to 'cat':\")\n",
        "similar_words = glove_model.most_similar(\"cat\", topn=5)\n",
        "for word, score in similar_words:\n",
        "    print(f\"{word}: {score:.4f}\")"
      ],
      "metadata": {
        "colab": {
          "base_uri": "https://localhost:8080/"
        },
        "id": "DDO-QGa4vrcO",
        "outputId": "d3df832b-ee57-4f0b-f97b-f027d45ad62b"
      },
      "execution_count": null,
      "outputs": [
        {
          "output_type": "stream",
          "name": "stdout",
          "text": [
            "\n",
            "Words most similar to 'cat':\n",
            "dog: 0.8798\n",
            "rabbit: 0.7424\n",
            "cats: 0.7323\n",
            "monkey: 0.7289\n",
            "pet: 0.7190\n"
          ]
        }
      ]
    },
    {
      "cell_type": "code",
      "source": [
        "# Step 6: Perform vector arithmetic\n",
        "result = glove_model.most_similar(positive=['woman', 'king'], negative=['man'], topn=1)\n",
        "print(f\"\\nking - man + woman = {result[0][0]}\")"
      ],
      "metadata": {
        "colab": {
          "base_uri": "https://localhost:8080/"
        },
        "id": "-Gp56N_gvsMp",
        "outputId": "9604a991-5027-4ddb-d613-bcfa715926fb"
      },
      "execution_count": null,
      "outputs": [
        {
          "output_type": "stream",
          "name": "stdout",
          "text": [
            "\n",
            "king - man + woman = queen\n"
          ]
        }
      ]
    },
    {
      "cell_type": "code",
      "source": [
        "# Word2Vec\n",
        "\n",
        "import numpy as np\n",
        "from gensim.models import Word2Vec\n",
        "import nltk\n",
        "from nltk.tokenize import word_tokenize\n",
        "from nltk.corpus import stopwords\n",
        "\n",
        "# Download necessary NLTK data\n",
        "nltk.download('punkt')\n",
        "nltk.download('stopwords')\n",
        "\n",
        "sentences = [\n",
        "    \"The king ruled over his kingdom with wisdom and justice\",\n",
        "    \"The queen stood beside the king as his equal partner\",\n",
        "    \"A wise man knows the value of patience and perseverance\",\n",
        "    \"The young woman pursued her dreams with determination\",\n",
        "    \"The prince will one day become king and rule the land\",\n",
        "    \"Men and women should be treated equally in society\",\n",
        "    \"The king and queen attended the royal ball together\",\n",
        "    \"A strong woman can achieve anything she sets her mind to\",\n",
        "    \"The old man shared his wisdom with the younger generation\",\n",
        "    \"Kings and queens of old were believed to rule by divine right\",\n",
        "    \"The businessman became as wealthy as a king through hard work\",\n",
        "    \"Women have fought for equal rights throughout history\",\n",
        "    \"The king's son, the prince, was next in line for the throne\",\n",
        "    \"Men have traditionally held more positions of power in government\",\n",
        "    \"The woman's intelligence and skill made her a natural leader\",\n",
        "    \"Kings of ancient times often led their armies into battle\",\n",
        "    \"The man's strength and courage were admired by his peers\",\n",
        "    \"Queens in chess are more powerful than kings on the board\",\n",
        "    \"Both men and women can aspire to be leaders in their fields\",\n",
        "    \"The king's decree was law throughout the realm\",\n",
        "    \"The queen mother advised her son, the young king, on matters of state\",\n",
        "    \"A gentleman treats all women with respect and courtesy\",\n",
        "    \"The princess dreamed of becoming a powerful queen one day\",\n",
        "    \"In modern times, women can become leaders of nations just like men\",\n",
        "    \"The king's wisdom was matched only by the queen's diplomacy\",\n",
        "    \"Men and women worked side by side in the fields and factories\",\n",
        "    \"The old king passed his crown to his daughter, the new queen\",\n",
        "    \"A kind man helps others without expecting anything in return\",\n",
        "    \"The woman's research revolutionized the field of medicine\",\n",
        "    \"Kings and queens in fairy tales often face challenges and quests\",\n",
        "    \"The businessman and businesswoman competed for the top position\",\n",
        "    \"Women's rights movements have changed society over the centuries\",\n",
        "    \"The king consulted both men and women for advice on ruling the kingdom\",\n",
        "    \"A brave man and a courageous woman led the expedition together\",\n",
        "    \"The queen's intelligence often surpassed that of the king\",\n",
        "    \"In some cultures, women have ruled as pharaohs and empresses\",\n",
        "    \"The wise old man and woman were respected elders in the village\",\n",
        "    \"Kings and presidents both hold positions of great responsibility\",\n",
        "    \"The man and woman worked together to solve the complex problem\",\n",
        "    \"Queen Elizabeth I proved that a woman could rule as effectively as any king\"\n",
        "]\n",
        "\n",
        "# Preprocess the text data\n",
        "stop_words = set(stopwords.words('english'))\n",
        "\n",
        "def preprocess(text):\n",
        "    tokens = word_tokenize(text.lower())\n",
        "    return [token for token in tokens if token.isalnum() and token not in stop_words]\n",
        "\n",
        "processed_sentences = [preprocess(sentence) for sentence in sentences]\n",
        "\n",
        "# Train Word2Vec model\n",
        "model = Word2Vec(sentences=processed_sentences, vector_size=100, window=5, min_count=1, workers=4)\n",
        "\n",
        "# Check if the words are in the vocabulary\n",
        "words_to_check = ['king', 'man', 'woman', 'queen']\n",
        "for word in words_to_check:\n",
        "    if word in model.wv:\n",
        "        print(f\"'{word}' is in the vocabulary\")\n",
        "    else:\n",
        "        print(f\"'{word}' is not in the vocabulary\")\n",
        "\n",
        "# Perform word analogy\n",
        "try:\n",
        "    result = model.wv.most_similar(positive=['king', 'woman'], negative=['man'])\n",
        "    print(\"\\nWord analogy (king - man + woman):\")\n",
        "    print(f\"Result: {result[0][0]}\")\n",
        "except KeyError:\n",
        "    print(\"\\nSome words in the analogy are not in the vocabulary.\")\n",
        "\n",
        "# Find similar words\n",
        "for word in words_to_check:\n",
        "    if word in model.wv:\n",
        "        similar_words = model.wv.most_similar(word)\n",
        "        print(f\"\\nWords most similar to '{word}':\")\n",
        "        for similar_word, score in similar_words[:5]:  # Print top 5 similar words\n",
        "            print(f\"{similar_word}: {score:.2f}\")"
      ],
      "metadata": {
        "colab": {
          "base_uri": "https://localhost:8080/"
        },
        "id": "JUbtEZhFzaEb",
        "outputId": "73bba9b9-8b64-499a-bd0d-43ca07fc914e"
      },
      "execution_count": null,
      "outputs": [
        {
          "output_type": "stream",
          "name": "stdout",
          "text": [
            "'king' is in the vocabulary\n",
            "'man' is in the vocabulary\n",
            "'woman' is in the vocabulary\n",
            "'queen' is in the vocabulary\n",
            "\n",
            "Word analogy (king - man + woman):\n",
            "Result: younger\n",
            "\n",
            "Words most similar to 'king':\n",
            "younger: 0.29\n",
            "quests: 0.23\n",
            "rights: 0.22\n",
            "princess: 0.22\n",
            "queens: 0.22\n",
            "\n",
            "Words most similar to 'man':\n",
            "battle: 0.27\n",
            "son: 0.25\n",
            "chess: 0.21\n",
            "princess: 0.21\n",
            "throughout: 0.20\n",
            "\n",
            "Words most similar to 'woman':\n",
            "decree: 0.26\n",
            "factories: 0.22\n",
            "shared: 0.20\n",
            "respected: 0.18\n",
            "positions: 0.18\n",
            "\n",
            "Words most similar to 'queen':\n",
            "sets: 0.37\n",
            "line: 0.21\n",
            "chess: 0.21\n",
            "made: 0.20\n",
            "together: 0.20\n"
          ]
        },
        {
          "output_type": "stream",
          "name": "stderr",
          "text": [
            "[nltk_data] Downloading package punkt to /root/nltk_data...\n",
            "[nltk_data]   Package punkt is already up-to-date!\n",
            "[nltk_data] Downloading package stopwords to /root/nltk_data...\n",
            "[nltk_data]   Package stopwords is already up-to-date!\n"
          ]
        }
      ]
    }
  ]
}